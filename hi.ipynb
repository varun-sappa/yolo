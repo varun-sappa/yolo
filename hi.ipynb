{
 "cells": [
  {
   "cell_type": "code",
   "execution_count": 2,
   "metadata": {},
   "outputs": [
    {
     "name": "stdout",
     "output_type": "stream",
     "text": [
      "mkdir: cannot create directory ‘data/obj’: File exists\n"
     ]
    }
   ],
   "source": [
    "%cp annotated/train/_darknet.labels data/obj.names\n",
    "%mkdir data/obj\n",
    "%cp annotated/train/*.jpg data/obj/\n",
    "%cp annotated/valid/*.jpg data/obj/\n",
    "\n",
    "\n",
    "# annotated ko change karna if you want to use sth else\n",
    "%cp annotated/train/*.txt data/obj/\n",
    "%cp annotated/valid/*.txt data/obj/\n",
    "\n",
    "with open('data/obj.data', 'w') as out:\n",
    "  out.write('classes = 3\\n')\n",
    "  out.write('train = data/train.txt\\n')\n",
    "  out.write('valid = data/valid.txt\\n')\n",
    "  out.write('names = data/obj.names\\n')\n",
    "  out.write('backup = backup/')\n",
    "\n",
    "#write train file (just the image list)\n",
    "import os\n",
    "\n",
    "with open('data/train.txt', 'w') as out:\n",
    "  for img in [f for f in os.listdir(\"annotated\" + '/train') if f.endswith('jpg')]:\n",
    "    out.write('data/obj/' + img + '\\n')\n",
    "\n",
    "#write the valid file (just the image list)\n",
    "import os\n",
    "\n",
    "with open('data/valid.txt', 'w') as out:\n",
    "  for img in [f for f in os.listdir(\"annotated\" + '/valid') if f.endswith('jpg')]:\n",
    "    out.write('data/obj/' + img + '\\n')\n"
   ]
  },
  {
   "cell_type": "code",
   "execution_count": null,
   "metadata": {},
   "outputs": [],
   "source": []
  },
  {
   "cell_type": "code",
   "execution_count": null,
   "metadata": {},
   "outputs": [],
   "source": [
    "#"
   ]
  }
 ],
 "metadata": {
  "kernelspec": {
   "display_name": "Python 3",
   "language": "python",
   "name": "python3"
  },
  "language_info": {
   "codemirror_mode": {
    "name": "ipython",
    "version": 3
   },
   "file_extension": ".py",
   "mimetype": "text/x-python",
   "name": "python",
   "nbconvert_exporter": "python",
   "pygments_lexer": "ipython3",
   "version": "3.10.12"
  }
 },
 "nbformat": 4,
 "nbformat_minor": 2
}
